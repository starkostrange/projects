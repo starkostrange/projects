{
 "cells": [
  {
   "cell_type": "code",
   "execution_count": 17,
   "metadata": {
    "_cell_guid": "b1076dfc-b9ad-4769-8c92-a6c4dae69d19",
    "_uuid": "8f2839f25d086af736a60e9eeb907d3b93b6e0e5",
    "execution": {
     "iopub.execute_input": "2022-12-05T13:05:42.127930Z",
     "iopub.status.busy": "2022-12-05T13:05:42.127466Z",
     "iopub.status.idle": "2022-12-05T13:05:43.045787Z",
     "shell.execute_reply": "2022-12-05T13:05:43.044713Z",
     "shell.execute_reply.started": "2022-12-05T13:05:42.127848Z"
    }
   },
   "outputs": [],
   "source": [
    "import numpy as np\n",
    "import pandas as pd\n",
    "import seaborn as sns\n",
    "sns.set_palette(\"Set3\")\n",
    "import matplotlib.pyplot as plt\n",
    "import warnings\n",
    "warnings.filterwarnings(\"ignore\")\n",
    "import os\n"
   ]
  },
  {
   "cell_type": "code",
   "execution_count": 18,
   "metadata": {
    "execution": {
     "iopub.execute_input": "2022-12-05T13:05:43.047945Z",
     "iopub.status.busy": "2022-12-05T13:05:43.047615Z",
     "iopub.status.idle": "2022-12-05T13:05:44.663697Z",
     "shell.execute_reply": "2022-12-05T13:05:44.663115Z",
     "shell.execute_reply.started": "2022-12-05T13:05:43.047913Z"
    }
   },
   "outputs": [],
   "source": [
    "df = pd.read_csv(\"C:\\\\Users\\\\Aastha\\\\Desktop\\\\0000\\\\Covid Data.csv\")"
   ]
  },
  {
   "cell_type": "code",
   "execution_count": 19,
   "metadata": {
    "execution": {
     "iopub.execute_input": "2022-12-05T13:05:44.665292Z",
     "iopub.status.busy": "2022-12-05T13:05:44.664877Z",
     "iopub.status.idle": "2022-12-05T13:05:44.696220Z",
     "shell.execute_reply": "2022-12-05T13:05:44.695081Z",
     "shell.execute_reply.started": "2022-12-05T13:05:44.665259Z"
    }
   },
   "outputs": [
    {
     "data": {
      "text/html": [
       "<div>\n",
       "<style scoped>\n",
       "    .dataframe tbody tr th:only-of-type {\n",
       "        vertical-align: middle;\n",
       "    }\n",
       "\n",
       "    .dataframe tbody tr th {\n",
       "        vertical-align: top;\n",
       "    }\n",
       "\n",
       "    .dataframe thead th {\n",
       "        text-align: right;\n",
       "    }\n",
       "</style>\n",
       "<table border=\"1\" class=\"dataframe\">\n",
       "  <thead>\n",
       "    <tr style=\"text-align: right;\">\n",
       "      <th></th>\n",
       "      <th>USMER</th>\n",
       "      <th>MEDICAL_UNIT</th>\n",
       "      <th>SEX</th>\n",
       "      <th>PATIENT_TYPE</th>\n",
       "      <th>DATE_DIED</th>\n",
       "      <th>INTUBED</th>\n",
       "      <th>PNEUMONIA</th>\n",
       "      <th>AGE</th>\n",
       "      <th>PREGNANT</th>\n",
       "      <th>DIABETES</th>\n",
       "      <th>...</th>\n",
       "      <th>ASTHMA</th>\n",
       "      <th>INMSUPR</th>\n",
       "      <th>HIPERTENSION</th>\n",
       "      <th>OTHER_DISEASE</th>\n",
       "      <th>CARDIOVASCULAR</th>\n",
       "      <th>OBESITY</th>\n",
       "      <th>RENAL_CHRONIC</th>\n",
       "      <th>TOBACCO</th>\n",
       "      <th>CLASIFFICATION_FINAL</th>\n",
       "      <th>ICU</th>\n",
       "    </tr>\n",
       "  </thead>\n",
       "  <tbody>\n",
       "    <tr>\n",
       "      <th>0</th>\n",
       "      <td>2</td>\n",
       "      <td>1</td>\n",
       "      <td>1</td>\n",
       "      <td>1</td>\n",
       "      <td>03/05/2020</td>\n",
       "      <td>97</td>\n",
       "      <td>1</td>\n",
       "      <td>65</td>\n",
       "      <td>2</td>\n",
       "      <td>2</td>\n",
       "      <td>...</td>\n",
       "      <td>2</td>\n",
       "      <td>2</td>\n",
       "      <td>1</td>\n",
       "      <td>2</td>\n",
       "      <td>2</td>\n",
       "      <td>2</td>\n",
       "      <td>2</td>\n",
       "      <td>2</td>\n",
       "      <td>3</td>\n",
       "      <td>97</td>\n",
       "    </tr>\n",
       "    <tr>\n",
       "      <th>1</th>\n",
       "      <td>2</td>\n",
       "      <td>1</td>\n",
       "      <td>2</td>\n",
       "      <td>1</td>\n",
       "      <td>03/06/2020</td>\n",
       "      <td>97</td>\n",
       "      <td>1</td>\n",
       "      <td>72</td>\n",
       "      <td>97</td>\n",
       "      <td>2</td>\n",
       "      <td>...</td>\n",
       "      <td>2</td>\n",
       "      <td>2</td>\n",
       "      <td>1</td>\n",
       "      <td>2</td>\n",
       "      <td>2</td>\n",
       "      <td>1</td>\n",
       "      <td>1</td>\n",
       "      <td>2</td>\n",
       "      <td>5</td>\n",
       "      <td>97</td>\n",
       "    </tr>\n",
       "    <tr>\n",
       "      <th>2</th>\n",
       "      <td>2</td>\n",
       "      <td>1</td>\n",
       "      <td>2</td>\n",
       "      <td>2</td>\n",
       "      <td>09/06/2020</td>\n",
       "      <td>1</td>\n",
       "      <td>2</td>\n",
       "      <td>55</td>\n",
       "      <td>97</td>\n",
       "      <td>1</td>\n",
       "      <td>...</td>\n",
       "      <td>2</td>\n",
       "      <td>2</td>\n",
       "      <td>2</td>\n",
       "      <td>2</td>\n",
       "      <td>2</td>\n",
       "      <td>2</td>\n",
       "      <td>2</td>\n",
       "      <td>2</td>\n",
       "      <td>3</td>\n",
       "      <td>2</td>\n",
       "    </tr>\n",
       "    <tr>\n",
       "      <th>3</th>\n",
       "      <td>2</td>\n",
       "      <td>1</td>\n",
       "      <td>1</td>\n",
       "      <td>1</td>\n",
       "      <td>12/06/2020</td>\n",
       "      <td>97</td>\n",
       "      <td>2</td>\n",
       "      <td>53</td>\n",
       "      <td>2</td>\n",
       "      <td>2</td>\n",
       "      <td>...</td>\n",
       "      <td>2</td>\n",
       "      <td>2</td>\n",
       "      <td>2</td>\n",
       "      <td>2</td>\n",
       "      <td>2</td>\n",
       "      <td>2</td>\n",
       "      <td>2</td>\n",
       "      <td>2</td>\n",
       "      <td>7</td>\n",
       "      <td>97</td>\n",
       "    </tr>\n",
       "    <tr>\n",
       "      <th>4</th>\n",
       "      <td>2</td>\n",
       "      <td>1</td>\n",
       "      <td>2</td>\n",
       "      <td>1</td>\n",
       "      <td>21/06/2020</td>\n",
       "      <td>97</td>\n",
       "      <td>2</td>\n",
       "      <td>68</td>\n",
       "      <td>97</td>\n",
       "      <td>1</td>\n",
       "      <td>...</td>\n",
       "      <td>2</td>\n",
       "      <td>2</td>\n",
       "      <td>1</td>\n",
       "      <td>2</td>\n",
       "      <td>2</td>\n",
       "      <td>2</td>\n",
       "      <td>2</td>\n",
       "      <td>2</td>\n",
       "      <td>3</td>\n",
       "      <td>97</td>\n",
       "    </tr>\n",
       "    <tr>\n",
       "      <th>5</th>\n",
       "      <td>2</td>\n",
       "      <td>1</td>\n",
       "      <td>1</td>\n",
       "      <td>2</td>\n",
       "      <td>9999-99-99</td>\n",
       "      <td>2</td>\n",
       "      <td>1</td>\n",
       "      <td>40</td>\n",
       "      <td>2</td>\n",
       "      <td>2</td>\n",
       "      <td>...</td>\n",
       "      <td>2</td>\n",
       "      <td>2</td>\n",
       "      <td>2</td>\n",
       "      <td>2</td>\n",
       "      <td>2</td>\n",
       "      <td>2</td>\n",
       "      <td>2</td>\n",
       "      <td>2</td>\n",
       "      <td>3</td>\n",
       "      <td>2</td>\n",
       "    </tr>\n",
       "    <tr>\n",
       "      <th>6</th>\n",
       "      <td>2</td>\n",
       "      <td>1</td>\n",
       "      <td>1</td>\n",
       "      <td>1</td>\n",
       "      <td>9999-99-99</td>\n",
       "      <td>97</td>\n",
       "      <td>2</td>\n",
       "      <td>64</td>\n",
       "      <td>2</td>\n",
       "      <td>2</td>\n",
       "      <td>...</td>\n",
       "      <td>2</td>\n",
       "      <td>2</td>\n",
       "      <td>2</td>\n",
       "      <td>2</td>\n",
       "      <td>2</td>\n",
       "      <td>2</td>\n",
       "      <td>2</td>\n",
       "      <td>2</td>\n",
       "      <td>3</td>\n",
       "      <td>97</td>\n",
       "    </tr>\n",
       "    <tr>\n",
       "      <th>7</th>\n",
       "      <td>2</td>\n",
       "      <td>1</td>\n",
       "      <td>1</td>\n",
       "      <td>1</td>\n",
       "      <td>9999-99-99</td>\n",
       "      <td>97</td>\n",
       "      <td>1</td>\n",
       "      <td>64</td>\n",
       "      <td>2</td>\n",
       "      <td>1</td>\n",
       "      <td>...</td>\n",
       "      <td>2</td>\n",
       "      <td>1</td>\n",
       "      <td>1</td>\n",
       "      <td>2</td>\n",
       "      <td>2</td>\n",
       "      <td>2</td>\n",
       "      <td>1</td>\n",
       "      <td>2</td>\n",
       "      <td>3</td>\n",
       "      <td>97</td>\n",
       "    </tr>\n",
       "    <tr>\n",
       "      <th>8</th>\n",
       "      <td>2</td>\n",
       "      <td>1</td>\n",
       "      <td>1</td>\n",
       "      <td>2</td>\n",
       "      <td>9999-99-99</td>\n",
       "      <td>2</td>\n",
       "      <td>2</td>\n",
       "      <td>37</td>\n",
       "      <td>2</td>\n",
       "      <td>1</td>\n",
       "      <td>...</td>\n",
       "      <td>2</td>\n",
       "      <td>2</td>\n",
       "      <td>1</td>\n",
       "      <td>2</td>\n",
       "      <td>2</td>\n",
       "      <td>1</td>\n",
       "      <td>2</td>\n",
       "      <td>2</td>\n",
       "      <td>3</td>\n",
       "      <td>2</td>\n",
       "    </tr>\n",
       "    <tr>\n",
       "      <th>9</th>\n",
       "      <td>2</td>\n",
       "      <td>1</td>\n",
       "      <td>1</td>\n",
       "      <td>2</td>\n",
       "      <td>9999-99-99</td>\n",
       "      <td>2</td>\n",
       "      <td>2</td>\n",
       "      <td>25</td>\n",
       "      <td>2</td>\n",
       "      <td>2</td>\n",
       "      <td>...</td>\n",
       "      <td>2</td>\n",
       "      <td>2</td>\n",
       "      <td>2</td>\n",
       "      <td>2</td>\n",
       "      <td>2</td>\n",
       "      <td>2</td>\n",
       "      <td>2</td>\n",
       "      <td>2</td>\n",
       "      <td>3</td>\n",
       "      <td>2</td>\n",
       "    </tr>\n",
       "    <tr>\n",
       "      <th>10</th>\n",
       "      <td>2</td>\n",
       "      <td>1</td>\n",
       "      <td>1</td>\n",
       "      <td>1</td>\n",
       "      <td>9999-99-99</td>\n",
       "      <td>97</td>\n",
       "      <td>2</td>\n",
       "      <td>38</td>\n",
       "      <td>2</td>\n",
       "      <td>2</td>\n",
       "      <td>...</td>\n",
       "      <td>2</td>\n",
       "      <td>2</td>\n",
       "      <td>2</td>\n",
       "      <td>2</td>\n",
       "      <td>2</td>\n",
       "      <td>2</td>\n",
       "      <td>2</td>\n",
       "      <td>2</td>\n",
       "      <td>3</td>\n",
       "      <td>97</td>\n",
       "    </tr>\n",
       "    <tr>\n",
       "      <th>11</th>\n",
       "      <td>2</td>\n",
       "      <td>1</td>\n",
       "      <td>2</td>\n",
       "      <td>2</td>\n",
       "      <td>9999-99-99</td>\n",
       "      <td>2</td>\n",
       "      <td>2</td>\n",
       "      <td>24</td>\n",
       "      <td>97</td>\n",
       "      <td>2</td>\n",
       "      <td>...</td>\n",
       "      <td>2</td>\n",
       "      <td>2</td>\n",
       "      <td>2</td>\n",
       "      <td>2</td>\n",
       "      <td>2</td>\n",
       "      <td>2</td>\n",
       "      <td>2</td>\n",
       "      <td>2</td>\n",
       "      <td>3</td>\n",
       "      <td>2</td>\n",
       "    </tr>\n",
       "    <tr>\n",
       "      <th>12</th>\n",
       "      <td>2</td>\n",
       "      <td>1</td>\n",
       "      <td>2</td>\n",
       "      <td>2</td>\n",
       "      <td>9999-99-99</td>\n",
       "      <td>2</td>\n",
       "      <td>2</td>\n",
       "      <td>30</td>\n",
       "      <td>97</td>\n",
       "      <td>2</td>\n",
       "      <td>...</td>\n",
       "      <td>2</td>\n",
       "      <td>2</td>\n",
       "      <td>2</td>\n",
       "      <td>2</td>\n",
       "      <td>2</td>\n",
       "      <td>2</td>\n",
       "      <td>2</td>\n",
       "      <td>2</td>\n",
       "      <td>3</td>\n",
       "      <td>2</td>\n",
       "    </tr>\n",
       "    <tr>\n",
       "      <th>13</th>\n",
       "      <td>2</td>\n",
       "      <td>1</td>\n",
       "      <td>2</td>\n",
       "      <td>1</td>\n",
       "      <td>9999-99-99</td>\n",
       "      <td>97</td>\n",
       "      <td>2</td>\n",
       "      <td>55</td>\n",
       "      <td>97</td>\n",
       "      <td>2</td>\n",
       "      <td>...</td>\n",
       "      <td>2</td>\n",
       "      <td>2</td>\n",
       "      <td>2</td>\n",
       "      <td>2</td>\n",
       "      <td>2</td>\n",
       "      <td>2</td>\n",
       "      <td>2</td>\n",
       "      <td>2</td>\n",
       "      <td>3</td>\n",
       "      <td>97</td>\n",
       "    </tr>\n",
       "    <tr>\n",
       "      <th>14</th>\n",
       "      <td>2</td>\n",
       "      <td>1</td>\n",
       "      <td>1</td>\n",
       "      <td>1</td>\n",
       "      <td>9999-99-99</td>\n",
       "      <td>97</td>\n",
       "      <td>2</td>\n",
       "      <td>48</td>\n",
       "      <td>2</td>\n",
       "      <td>1</td>\n",
       "      <td>...</td>\n",
       "      <td>2</td>\n",
       "      <td>2</td>\n",
       "      <td>2</td>\n",
       "      <td>2</td>\n",
       "      <td>2</td>\n",
       "      <td>2</td>\n",
       "      <td>2</td>\n",
       "      <td>2</td>\n",
       "      <td>3</td>\n",
       "      <td>97</td>\n",
       "    </tr>\n",
       "  </tbody>\n",
       "</table>\n",
       "<p>15 rows × 21 columns</p>\n",
       "</div>"
      ],
      "text/plain": [
       "    USMER  MEDICAL_UNIT  SEX  PATIENT_TYPE   DATE_DIED  INTUBED  PNEUMONIA  \\\n",
       "0       2             1    1             1  03/05/2020       97          1   \n",
       "1       2             1    2             1  03/06/2020       97          1   \n",
       "2       2             1    2             2  09/06/2020        1          2   \n",
       "3       2             1    1             1  12/06/2020       97          2   \n",
       "4       2             1    2             1  21/06/2020       97          2   \n",
       "5       2             1    1             2  9999-99-99        2          1   \n",
       "6       2             1    1             1  9999-99-99       97          2   \n",
       "7       2             1    1             1  9999-99-99       97          1   \n",
       "8       2             1    1             2  9999-99-99        2          2   \n",
       "9       2             1    1             2  9999-99-99        2          2   \n",
       "10      2             1    1             1  9999-99-99       97          2   \n",
       "11      2             1    2             2  9999-99-99        2          2   \n",
       "12      2             1    2             2  9999-99-99        2          2   \n",
       "13      2             1    2             1  9999-99-99       97          2   \n",
       "14      2             1    1             1  9999-99-99       97          2   \n",
       "\n",
       "    AGE  PREGNANT  DIABETES  ...  ASTHMA  INMSUPR  HIPERTENSION  \\\n",
       "0    65         2         2  ...       2        2             1   \n",
       "1    72        97         2  ...       2        2             1   \n",
       "2    55        97         1  ...       2        2             2   \n",
       "3    53         2         2  ...       2        2             2   \n",
       "4    68        97         1  ...       2        2             1   \n",
       "5    40         2         2  ...       2        2             2   \n",
       "6    64         2         2  ...       2        2             2   \n",
       "7    64         2         1  ...       2        1             1   \n",
       "8    37         2         1  ...       2        2             1   \n",
       "9    25         2         2  ...       2        2             2   \n",
       "10   38         2         2  ...       2        2             2   \n",
       "11   24        97         2  ...       2        2             2   \n",
       "12   30        97         2  ...       2        2             2   \n",
       "13   55        97         2  ...       2        2             2   \n",
       "14   48         2         1  ...       2        2             2   \n",
       "\n",
       "    OTHER_DISEASE  CARDIOVASCULAR  OBESITY  RENAL_CHRONIC  TOBACCO  \\\n",
       "0               2               2        2              2        2   \n",
       "1               2               2        1              1        2   \n",
       "2               2               2        2              2        2   \n",
       "3               2               2        2              2        2   \n",
       "4               2               2        2              2        2   \n",
       "5               2               2        2              2        2   \n",
       "6               2               2        2              2        2   \n",
       "7               2               2        2              1        2   \n",
       "8               2               2        1              2        2   \n",
       "9               2               2        2              2        2   \n",
       "10              2               2        2              2        2   \n",
       "11              2               2        2              2        2   \n",
       "12              2               2        2              2        2   \n",
       "13              2               2        2              2        2   \n",
       "14              2               2        2              2        2   \n",
       "\n",
       "    CLASIFFICATION_FINAL  ICU  \n",
       "0                      3   97  \n",
       "1                      5   97  \n",
       "2                      3    2  \n",
       "3                      7   97  \n",
       "4                      3   97  \n",
       "5                      3    2  \n",
       "6                      3   97  \n",
       "7                      3   97  \n",
       "8                      3    2  \n",
       "9                      3    2  \n",
       "10                     3   97  \n",
       "11                     3    2  \n",
       "12                     3    2  \n",
       "13                     3   97  \n",
       "14                     3   97  \n",
       "\n",
       "[15 rows x 21 columns]"
      ]
     },
     "execution_count": 19,
     "metadata": {},
     "output_type": "execute_result"
    }
   ],
   "source": [
    "df.head(15)"
   ]
  },
  {
   "cell_type": "code",
   "execution_count": 20,
   "metadata": {
    "execution": {
     "iopub.execute_input": "2022-12-05T13:05:44.698729Z",
     "iopub.status.busy": "2022-12-05T13:05:44.698107Z",
     "iopub.status.idle": "2022-12-05T13:05:44.775365Z",
     "shell.execute_reply": "2022-12-05T13:05:44.774453Z",
     "shell.execute_reply.started": "2022-12-05T13:05:44.698700Z"
    }
   },
   "outputs": [
    {
     "name": "stdout",
     "output_type": "stream",
     "text": [
      "<class 'pandas.core.frame.DataFrame'>\n",
      "RangeIndex: 1048575 entries, 0 to 1048574\n",
      "Data columns (total 21 columns):\n",
      " #   Column                Non-Null Count    Dtype \n",
      "---  ------                --------------    ----- \n",
      " 0   USMER                 1048575 non-null  int64 \n",
      " 1   MEDICAL_UNIT          1048575 non-null  int64 \n",
      " 2   SEX                   1048575 non-null  int64 \n",
      " 3   PATIENT_TYPE          1048575 non-null  int64 \n",
      " 4   DATE_DIED             1048575 non-null  object\n",
      " 5   INTUBED               1048575 non-null  int64 \n",
      " 6   PNEUMONIA             1048575 non-null  int64 \n",
      " 7   AGE                   1048575 non-null  int64 \n",
      " 8   PREGNANT              1048575 non-null  int64 \n",
      " 9   DIABETES              1048575 non-null  int64 \n",
      " 10  COPD                  1048575 non-null  int64 \n",
      " 11  ASTHMA                1048575 non-null  int64 \n",
      " 12  INMSUPR               1048575 non-null  int64 \n",
      " 13  HIPERTENSION          1048575 non-null  int64 \n",
      " 14  OTHER_DISEASE         1048575 non-null  int64 \n",
      " 15  CARDIOVASCULAR        1048575 non-null  int64 \n",
      " 16  OBESITY               1048575 non-null  int64 \n",
      " 17  RENAL_CHRONIC         1048575 non-null  int64 \n",
      " 18  TOBACCO               1048575 non-null  int64 \n",
      " 19  CLASIFFICATION_FINAL  1048575 non-null  int64 \n",
      " 20  ICU                   1048575 non-null  int64 \n",
      "dtypes: int64(20), object(1)\n",
      "memory usage: 168.0+ MB\n"
     ]
    }
   ],
   "source": [
    "df.info()"
   ]
  },
  {
   "cell_type": "code",
   "execution_count": 21,
   "metadata": {
    "execution": {
     "iopub.execute_input": "2022-12-05T13:05:44.777089Z",
     "iopub.status.busy": "2022-12-05T13:05:44.776670Z",
     "iopub.status.idle": "2022-12-05T13:05:44.837180Z",
     "shell.execute_reply": "2022-12-05T13:05:44.836343Z",
     "shell.execute_reply.started": "2022-12-05T13:05:44.777054Z"
    }
   },
   "outputs": [
    {
     "data": {
      "text/plain": [
       "0"
      ]
     },
     "execution_count": 21,
     "metadata": {},
     "output_type": "execute_result"
    }
   ],
   "source": [
    "df.isnull().sum().sum()"
   ]
  },
  {
   "cell_type": "markdown",
   "metadata": {},
   "source": [
    "# DATA PREPROCESSING"
   ]
  },
  {
   "cell_type": "code",
   "execution_count": 50,
   "metadata": {
    "execution": {
     "iopub.execute_input": "2022-12-05T13:05:44.838918Z",
     "iopub.status.busy": "2022-12-05T13:05:44.838651Z",
     "iopub.status.idle": "2022-12-05T13:05:46.018038Z",
     "shell.execute_reply": "2022-12-05T13:05:46.016804Z",
     "shell.execute_reply.started": "2022-12-05T13:05:44.838889Z"
    }
   },
   "outputs": [],
   "source": [
    "df = df[(df.PNEUMONIA == 1) | (df.PNEUMONIA == 2)]\n",
    "df = df[(df.DIABETES == 1) | (df.DIABETES == 2)]\n",
    "df = df[(df.COPD == 1) | (df.COPD == 2)]\n",
    "df = df[(df.ASTHMA == 1) | (df.ASTHMA == 2)]\n",
    "df = df[(df.INMSUPR == 1) | (df.INMSUPR == 2)]\n",
    "df = df[(df.HIPERTENSION == 1) | (df.HIPERTENSION == 2)]\n",
    "df = df[(df.OTHER_DISEASE == 1) | (df.OTHER_DISEASE == 2)]\n",
    "df = df[(df.CARDIOVASCULAR == 1) | (df.CARDIOVASCULAR == 2)]\n",
    "df = df[(df.OBESITY == 1) | (df.OBESITY == 2)]\n",
    "df = df[(df.RENAL_CHRONIC == 1) | (df.RENAL_CHRONIC == 2)]\n",
    "df = df[(df.TOBACCO == 1) | (df.TOBACCO == 2)]"
   ]
  },
  {
   "cell_type": "code",
   "execution_count": 51,
   "metadata": {
    "execution": {
     "iopub.execute_input": "2022-12-05T13:05:46.379772Z",
     "iopub.status.busy": "2022-12-05T13:05:46.379503Z",
     "iopub.status.idle": "2022-12-05T13:05:46.398612Z",
     "shell.execute_reply": "2022-12-05T13:05:46.397501Z",
     "shell.execute_reply.started": "2022-12-05T13:05:46.379742Z"
    }
   },
   "outputs": [],
   "source": [
    "df.PREGNANT = df.PREGNANT.replace(98, 2)\n",
    "df.PREGNANT = df.PREGNANT.replace(97, 2)"
   ]
  },
  {
   "cell_type": "code",
   "execution_count": 54,
   "metadata": {
    "execution": {
     "iopub.execute_input": "2022-12-05T13:05:46.815714Z",
     "iopub.status.busy": "2022-12-05T13:05:46.815443Z",
     "iopub.status.idle": "2022-12-05T13:05:46.832880Z",
     "shell.execute_reply": "2022-12-05T13:05:46.832085Z",
     "shell.execute_reply.started": "2022-12-05T13:05:46.815686Z"
    }
   },
   "outputs": [
    {
     "data": {
      "text/plain": [
       "1    636274\n",
       "0    388878\n",
       "Name: CLASIFFICATION_FINAL, dtype: int64"
      ]
     },
     "execution_count": 54,
     "metadata": {},
     "output_type": "execute_result"
    }
   ],
   "source": [
    "df.CLASIFFICATION_FINAL.value_counts()"
   ]
  },
  {
   "cell_type": "code",
   "execution_count": 55,
   "metadata": {
    "execution": {
     "iopub.execute_input": "2022-12-05T13:05:46.834939Z",
     "iopub.status.busy": "2022-12-05T13:05:46.834107Z",
     "iopub.status.idle": "2022-12-05T13:05:46.859530Z",
     "shell.execute_reply": "2022-12-05T13:05:46.859034Z",
     "shell.execute_reply.started": "2022-12-05T13:05:46.834894Z"
    }
   },
   "outputs": [],
   "source": [
    "df.CLASIFFICATION_FINAL = df.CLASIFFICATION_FINAL.replace([1,2,3], 1)\n",
    "df.CLASIFFICATION_FINAL = df.CLASIFFICATION_FINAL.replace([4,5,6,7], 2)"
   ]
  },
  {
   "cell_type": "code",
   "execution_count": 56,
   "metadata": {
    "execution": {
     "iopub.execute_input": "2022-12-05T13:05:46.860674Z",
     "iopub.status.busy": "2022-12-05T13:05:46.860359Z",
     "iopub.status.idle": "2022-12-05T13:05:46.876855Z",
     "shell.execute_reply": "2022-12-05T13:05:46.875732Z",
     "shell.execute_reply.started": "2022-12-05T13:05:46.860616Z"
    }
   },
   "outputs": [
    {
     "data": {
      "text/plain": [
       "1    636274\n",
       "0    388878\n",
       "Name: CLASIFFICATION_FINAL, dtype: int64"
      ]
     },
     "execution_count": 56,
     "metadata": {},
     "output_type": "execute_result"
    }
   ],
   "source": [
    "df.CLASIFFICATION_FINAL.value_counts()"
   ]
  },
  {
   "cell_type": "code",
   "execution_count": 58,
   "metadata": {
    "execution": {
     "iopub.execute_input": "2022-12-05T13:05:51.358531Z",
     "iopub.status.busy": "2022-12-05T13:05:51.358316Z",
     "iopub.status.idle": "2022-12-05T13:05:51.379545Z",
     "shell.execute_reply": "2022-12-05T13:05:51.378791Z",
     "shell.execute_reply.started": "2022-12-05T13:05:51.358506Z"
    }
   },
   "outputs": [
    {
     "data": {
      "text/html": [
       "<div>\n",
       "<style scoped>\n",
       "    .dataframe tbody tr th:only-of-type {\n",
       "        vertical-align: middle;\n",
       "    }\n",
       "\n",
       "    .dataframe tbody tr th {\n",
       "        vertical-align: top;\n",
       "    }\n",
       "\n",
       "    .dataframe thead th {\n",
       "        text-align: right;\n",
       "    }\n",
       "</style>\n",
       "<table border=\"1\" class=\"dataframe\">\n",
       "  <thead>\n",
       "    <tr style=\"text-align: right;\">\n",
       "      <th></th>\n",
       "      <th>USMER</th>\n",
       "      <th>MEDICAL_UNIT</th>\n",
       "      <th>SEX</th>\n",
       "      <th>PATIENT_TYPE</th>\n",
       "      <th>PNEUMONIA</th>\n",
       "      <th>AGE</th>\n",
       "      <th>PREGNANT</th>\n",
       "      <th>DIABETES</th>\n",
       "      <th>COPD</th>\n",
       "      <th>ASTHMA</th>\n",
       "      <th>INMSUPR</th>\n",
       "      <th>HIPERTENSION</th>\n",
       "      <th>OTHER_DISEASE</th>\n",
       "      <th>CARDIOVASCULAR</th>\n",
       "      <th>OBESITY</th>\n",
       "      <th>RENAL_CHRONIC</th>\n",
       "      <th>TOBACCO</th>\n",
       "      <th>CLASIFFICATION_FINAL</th>\n",
       "    </tr>\n",
       "  </thead>\n",
       "  <tbody>\n",
       "    <tr>\n",
       "      <th>0</th>\n",
       "      <td>2</td>\n",
       "      <td>1</td>\n",
       "      <td>1</td>\n",
       "      <td>1</td>\n",
       "      <td>1</td>\n",
       "      <td>65</td>\n",
       "      <td>2</td>\n",
       "      <td>2</td>\n",
       "      <td>2</td>\n",
       "      <td>2</td>\n",
       "      <td>2</td>\n",
       "      <td>1</td>\n",
       "      <td>2</td>\n",
       "      <td>2</td>\n",
       "      <td>2</td>\n",
       "      <td>2</td>\n",
       "      <td>2</td>\n",
       "      <td>0</td>\n",
       "    </tr>\n",
       "    <tr>\n",
       "      <th>1</th>\n",
       "      <td>2</td>\n",
       "      <td>1</td>\n",
       "      <td>2</td>\n",
       "      <td>1</td>\n",
       "      <td>1</td>\n",
       "      <td>72</td>\n",
       "      <td>2</td>\n",
       "      <td>2</td>\n",
       "      <td>2</td>\n",
       "      <td>2</td>\n",
       "      <td>2</td>\n",
       "      <td>1</td>\n",
       "      <td>2</td>\n",
       "      <td>2</td>\n",
       "      <td>1</td>\n",
       "      <td>1</td>\n",
       "      <td>2</td>\n",
       "      <td>1</td>\n",
       "    </tr>\n",
       "    <tr>\n",
       "      <th>2</th>\n",
       "      <td>2</td>\n",
       "      <td>1</td>\n",
       "      <td>2</td>\n",
       "      <td>2</td>\n",
       "      <td>2</td>\n",
       "      <td>55</td>\n",
       "      <td>2</td>\n",
       "      <td>1</td>\n",
       "      <td>2</td>\n",
       "      <td>2</td>\n",
       "      <td>2</td>\n",
       "      <td>2</td>\n",
       "      <td>2</td>\n",
       "      <td>2</td>\n",
       "      <td>2</td>\n",
       "      <td>2</td>\n",
       "      <td>2</td>\n",
       "      <td>0</td>\n",
       "    </tr>\n",
       "    <tr>\n",
       "      <th>3</th>\n",
       "      <td>2</td>\n",
       "      <td>1</td>\n",
       "      <td>1</td>\n",
       "      <td>1</td>\n",
       "      <td>2</td>\n",
       "      <td>53</td>\n",
       "      <td>2</td>\n",
       "      <td>2</td>\n",
       "      <td>2</td>\n",
       "      <td>2</td>\n",
       "      <td>2</td>\n",
       "      <td>2</td>\n",
       "      <td>2</td>\n",
       "      <td>2</td>\n",
       "      <td>2</td>\n",
       "      <td>2</td>\n",
       "      <td>2</td>\n",
       "      <td>1</td>\n",
       "    </tr>\n",
       "    <tr>\n",
       "      <th>4</th>\n",
       "      <td>2</td>\n",
       "      <td>1</td>\n",
       "      <td>2</td>\n",
       "      <td>1</td>\n",
       "      <td>2</td>\n",
       "      <td>68</td>\n",
       "      <td>2</td>\n",
       "      <td>1</td>\n",
       "      <td>2</td>\n",
       "      <td>2</td>\n",
       "      <td>2</td>\n",
       "      <td>1</td>\n",
       "      <td>2</td>\n",
       "      <td>2</td>\n",
       "      <td>2</td>\n",
       "      <td>2</td>\n",
       "      <td>2</td>\n",
       "      <td>0</td>\n",
       "    </tr>\n",
       "  </tbody>\n",
       "</table>\n",
       "</div>"
      ],
      "text/plain": [
       "   USMER  MEDICAL_UNIT  SEX  PATIENT_TYPE  PNEUMONIA  AGE  PREGNANT  DIABETES  \\\n",
       "0      2             1    1             1          1   65         2         2   \n",
       "1      2             1    2             1          1   72         2         2   \n",
       "2      2             1    2             2          2   55         2         1   \n",
       "3      2             1    1             1          2   53         2         2   \n",
       "4      2             1    2             1          2   68         2         1   \n",
       "\n",
       "   COPD  ASTHMA  INMSUPR  HIPERTENSION  OTHER_DISEASE  CARDIOVASCULAR  \\\n",
       "0     2       2        2             1              2               2   \n",
       "1     2       2        2             1              2               2   \n",
       "2     2       2        2             2              2               2   \n",
       "3     2       2        2             2              2               2   \n",
       "4     2       2        2             1              2               2   \n",
       "\n",
       "   OBESITY  RENAL_CHRONIC  TOBACCO  CLASIFFICATION_FINAL  \n",
       "0        2              2        2                     0  \n",
       "1        1              1        2                     1  \n",
       "2        2              2        2                     0  \n",
       "3        2              2        2                     1  \n",
       "4        2              2        2                     0  "
      ]
     },
     "execution_count": 58,
     "metadata": {},
     "output_type": "execute_result"
    }
   ],
   "source": [
    "df.head()"
   ]
  },
  {
   "cell_type": "code",
   "execution_count": 33,
   "metadata": {
    "execution": {
     "iopub.execute_input": "2022-12-05T13:05:51.381194Z",
     "iopub.status.busy": "2022-12-05T13:05:51.380820Z",
     "iopub.status.idle": "2022-12-05T13:05:51.405002Z",
     "shell.execute_reply": "2022-12-05T13:05:51.404055Z",
     "shell.execute_reply.started": "2022-12-05T13:05:51.381167Z"
    }
   },
   "outputs": [
    {
     "data": {
      "text/plain": [
       "2020    74402\n",
       "2021      312\n",
       "Name: YEAR, dtype: int64"
      ]
     },
     "execution_count": 33,
     "metadata": {},
     "output_type": "execute_result"
    }
   ],
   "source": [
    "df.YEAR.value_counts()"
   ]
  },
  {
   "cell_type": "code",
   "execution_count": 34,
   "metadata": {
    "execution": {
     "iopub.execute_input": "2022-12-05T13:05:51.408322Z",
     "iopub.status.busy": "2022-12-05T13:05:51.407635Z",
     "iopub.status.idle": "2022-12-05T13:05:52.014750Z",
     "shell.execute_reply": "2022-12-05T13:05:52.013868Z",
     "shell.execute_reply.started": "2022-12-05T13:05:51.408287Z"
    }
   },
   "outputs": [
    {
     "data": {
      "image/png": "[encoded data removed]",
      "text/plain": [
       "<Figure size 800x500 with 1 Axes>"
      ]
     },
     "metadata": {},
     "output_type": "display_data"
    }
   ],
   "source": [
    "plt.figure(figsize = (8,5))\n",
    "ax = sns.countplot(x = \"YEAR\", hue = \"PATIENT_TYPE\", data = df)\n",
    "plt.title(\"DEAD NUMBERS OF COVID BY YEAR\", fontsize = 20)\n",
    "for bars in ax.containers:\n",
    "    ax.bar_label(bars)"
   ]
  },
  {
   "cell_type": "markdown",
   "metadata": {},
   "source": [
    "**In 2020,**\n",
    "* **Around 68000 people died from covid and not hospitalized**\n",
    "* **Around 6600 people died from covid and hospitalized**\n",
    "\n",
    "**In 2021,**\n",
    "* **Around 60 people died from covid and not hospitalized**\n",
    "* **Around 250 people died from covid and hospitalized.**"
   ]
  },
  {
   "cell_type": "code",
   "execution_count": 35,
   "metadata": {
    "execution": {
     "iopub.execute_input": "2022-12-05T13:05:52.016364Z",
     "iopub.status.busy": "2022-12-05T13:05:52.016173Z",
     "iopub.status.idle": "2022-12-05T13:05:52.763868Z",
     "shell.execute_reply": "2022-12-05T13:05:52.762838Z",
     "shell.execute_reply.started": "2022-12-05T13:05:52.016340Z"
    }
   },
   "outputs": [
    {
     "data": {
      "image/png": "[encoded data removed]",
      "text/plain": [
       "<Figure size 800x500 with 1 Axes>"
      ]
     },
     "metadata": {},
     "output_type": "display_data"
    }
   ],
   "source": [
    "plt.figure(figsize = (8,5))\n",
    "ax = sns.countplot(x = \"MONTH\", hue = \"PATIENT_TYPE\", data = df)\n",
    "plt.title(\"DEAD NUMBERS OF COVID BY MONTH\", fontsize = 20)\n",
    "for bars in ax.containers:\n",
    "    ax.bar_label(bars)"
   ]
  },
  {
   "cell_type": "markdown",
   "metadata": {
    "execution": {
     "iopub.execute_input": "2022-11-24T12:53:00.730393Z",
     "iopub.status.busy": "2022-11-24T12:53:00.729309Z",
     "iopub.status.idle": "2022-11-24T12:53:00.790308Z",
     "shell.execute_reply": "2022-11-24T12:53:00.788540Z",
     "shell.execute_reply.started": "2022-11-24T12:53:00.730336Z"
    }
   },
   "source": [
    "**People died in April, May, June and July the most.**"
   ]
  },
  {
   "cell_type": "code",
   "execution_count": 36,
   "metadata": {
    "execution": {
     "iopub.execute_input": "2022-12-05T13:05:52.765259Z",
     "iopub.status.busy": "2022-12-05T13:05:52.765031Z",
     "iopub.status.idle": "2022-12-05T13:05:52.840000Z",
     "shell.execute_reply": "2022-12-05T13:05:52.839056Z",
     "shell.execute_reply.started": "2022-12-05T13:05:52.765234Z"
    }
   },
   "outputs": [],
   "source": [
    "df.drop([\"DATE_DIED\", \"MONTH\", \"YEAR\"], axis = 1, inplace = True)"
   ]
  },
  {
   "cell_type": "code",
   "execution_count": 37,
   "metadata": {
    "execution": {
     "iopub.execute_input": "2022-12-05T13:05:52.841480Z",
     "iopub.status.busy": "2022-12-05T13:05:52.841268Z",
     "iopub.status.idle": "2022-12-05T13:05:52.849121Z",
     "shell.execute_reply": "2022-12-05T13:05:52.848036Z",
     "shell.execute_reply.started": "2022-12-05T13:05:52.841450Z"
    }
   },
   "outputs": [],
   "source": [
    "df[\"CLASIFFICATION_FINAL\"] = df[\"CLASIFFICATION_FINAL\"] - 1"
   ]
  },
  {
   "cell_type": "markdown",
   "metadata": {},
   "source": [
    "# XGBOOST MODEL"
   ]
  },
  {
   "cell_type": "code",
   "execution_count": 38,
   "metadata": {
    "execution": {
     "iopub.execute_input": "2022-12-05T13:05:52.851418Z",
     "iopub.status.busy": "2022-12-05T13:05:52.850791Z",
     "iopub.status.idle": "2022-12-05T13:05:52.887872Z",
     "shell.execute_reply": "2022-12-05T13:05:52.886891Z",
     "shell.execute_reply.started": "2022-12-05T13:05:52.851383Z"
    }
   },
   "outputs": [],
   "source": [
    "x = df.drop(\"CLASIFFICATION_FINAL\", axis = 1)\n",
    "y = df[\"CLASIFFICATION_FINAL\"]"
   ]
  },
  {
   "cell_type": "code",
   "execution_count": 39,
   "metadata": {
    "execution": {
     "iopub.execute_input": "2022-12-05T13:05:52.890196Z",
     "iopub.status.busy": "2022-12-05T13:05:52.889890Z",
     "iopub.status.idle": "2022-12-05T13:05:53.291102Z",
     "shell.execute_reply": "2022-12-05T13:05:53.290138Z",
     "shell.execute_reply.started": "2022-12-05T13:05:52.890167Z"
    }
   },
   "outputs": [],
   "source": [
    "from sklearn.model_selection import train_test_split\n",
    "x_train,x_test,y_train,y_test = train_test_split(x, y, test_size = 0.3, random_state = 0)"
   ]
  },
  {
   "cell_type": "code",
   "execution_count": 40,
   "metadata": {
    "execution": {
     "iopub.execute_input": "2022-12-05T13:05:53.292688Z",
     "iopub.status.busy": "2022-12-05T13:05:53.292124Z",
     "iopub.status.idle": "2022-12-05T13:06:52.105530Z",
     "shell.execute_reply": "2022-12-05T13:06:52.104654Z",
     "shell.execute_reply.started": "2022-12-05T13:05:53.292660Z"
    }
   },
   "outputs": [],
   "source": [
    "from xgboost import XGBClassifier\n",
    "xgb = XGBClassifier(n_estimators = 200, \n",
    "                    learning_rate=0.1)\n",
    "\n",
    "xgb.fit(x_train, y_train)\n",
    "\n",
    "pred = xgb.predict(x_test)"
   ]
  },
  {
   "cell_type": "markdown",
   "metadata": {},
   "source": [
    "**Checking XGB Model's accuracy and AUC score**"
   ]
  },
  {
   "cell_type": "code",
   "execution_count": 41,
   "metadata": {
    "execution": {
     "iopub.execute_input": "2022-12-05T13:06:52.106883Z",
     "iopub.status.busy": "2022-12-05T13:06:52.106654Z",
     "iopub.status.idle": "2022-12-05T13:06:52.232093Z",
     "shell.execute_reply": "2022-12-05T13:06:52.230628Z",
     "shell.execute_reply.started": "2022-12-05T13:06:52.106856Z"
    }
   },
   "outputs": [
    {
     "name": "stdout",
     "output_type": "stream",
     "text": [
      "XGB Model's Accuracy is 0.6652728372341048\n",
      "XGB Model's AUC score is 0.655213071053069\n"
     ]
    }
   ],
   "source": [
    "from sklearn.metrics import accuracy_score, roc_curve, roc_auc_score, confusion_matrix, classification_report, plot_confusion_matrix\n",
    "accuracy_score(pred, y_test)\n",
    "roc_auc_score(pred, y_test)\n",
    "\n",
    "print(\"XGB Model's Accuracy is \"+str(accuracy_score(pred, y_test)))\n",
    "print(\"XGB Model's AUC score is \"+str(roc_auc_score(pred, y_test)))"
   ]
  },
  {
   "cell_type": "markdown",
   "metadata": {},
   "source": [
    "## Checking Recall"
   ]
  },
  {
   "cell_type": "code",
   "execution_count": 42,
   "metadata": {
    "execution": {
     "iopub.execute_input": "2022-12-05T13:06:52.234482Z",
     "iopub.status.busy": "2022-12-05T13:06:52.233863Z",
     "iopub.status.idle": "2022-12-05T13:06:52.632612Z",
     "shell.execute_reply": "2022-12-05T13:06:52.632019Z",
     "shell.execute_reply.started": "2022-12-05T13:06:52.234440Z"
    }
   },
   "outputs": [
    {
     "data": {
      "image/png": "[encoded data removed]",
      "text/plain": [
       "<Figure size 640x480 with 2 Axes>"
      ]
     },
     "metadata": {},
     "output_type": "display_data"
    }
   ],
   "source": [
    "from sklearn.metrics import ConfusionMatrixDisplay\n",
    "\n",
    "disp = ConfusionMatrixDisplay(confusion_matrix(pred, y_test))\n",
    "disp = disp.plot()"
   ]
  },
  {
   "cell_type": "markdown",
   "metadata": {},
   "source": [
    "* ***TP -> 31712*** *Our prediction is 1 and real label is 1*\n",
    "* ***TN -> 172890*** *Our prediction is 0 and real label is 0*\n",
    "* ***FP -> 85135*** *Our prediction is 1 and real label is 0*\n",
    "* ***FN -> 17809*** *Our prediction is 0 and real label is 1*\n",
    "\n",
    "***Recall = TP / (FN + TP)***\n",
    "***Recall = 31712 / (31712 + 17809) = 0.64***\n",
    "\n",
    "**Recall is important to us now because it shows how many of the positive values we have guessed positive correctly.**\n",
    "\n",
    "**Our model has a recall of 0.64—in other words, it correctly identifies 64% of all COVID-19s.**"
   ]
  },
  {
   "cell_type": "code",
   "execution_count": 43,
   "metadata": {
    "execution": {
     "iopub.execute_input": "2022-12-05T13:06:52.633877Z",
     "iopub.status.busy": "2022-12-05T13:06:52.633557Z",
     "iopub.status.idle": "2022-12-05T13:06:52.977461Z",
     "shell.execute_reply": "2022-12-05T13:06:52.976568Z",
     "shell.execute_reply.started": "2022-12-05T13:06:52.633849Z"
    }
   },
   "outputs": [
    {
     "name": "stdout",
     "output_type": "stream",
     "text": [
      "              precision    recall  f1-score   support\n",
      "\n",
      "           0       0.27      0.64      0.38     49521\n",
      "           1       0.91      0.67      0.77    258025\n",
      "\n",
      "    accuracy                           0.67    307546\n",
      "   macro avg       0.59      0.66      0.58    307546\n",
      "weighted avg       0.80      0.67      0.71    307546\n",
      "\n"
     ]
    }
   ],
   "source": [
    "print(classification_report(pred, y_test))"
   ]
  },
  {
   "cell_type": "markdown",
   "metadata": {},
   "source": [
    "# FEATURE IMPORTANCES"
   ]
  },
  {
   "cell_type": "code",
   "execution_count": 44,
   "metadata": {
    "execution": {
     "iopub.execute_input": "2022-12-05T13:06:52.981054Z",
     "iopub.status.busy": "2022-12-05T13:06:52.980071Z",
     "iopub.status.idle": "2022-12-05T13:06:53.107803Z",
     "shell.execute_reply": "2022-12-05T13:06:53.106946Z",
     "shell.execute_reply.started": "2022-12-05T13:06:52.980952Z"
    }
   },
   "outputs": [],
   "source": [
    "df_importances = pd.DataFrame(list(x), xgb.feature_importances_)\n",
    "df_importances.columns = [\"Feature_Names\"]\n",
    "df_importances[\"Importances\"] = df_importances.index\n",
    "df_importances = df_importances.sort_values(by = \"Importances\", ascending = False)\n",
    "df_importances.index = np.arange(0,len(df_importances))"
   ]
  },
  {
   "cell_type": "code",
   "execution_count": 45,
   "metadata": {
    "execution": {
     "iopub.execute_input": "2022-12-05T13:06:53.109028Z",
     "iopub.status.busy": "2022-12-05T13:06:53.108785Z",
     "iopub.status.idle": "2022-12-05T13:06:53.120326Z",
     "shell.execute_reply": "2022-12-05T13:06:53.119301Z",
     "shell.execute_reply.started": "2022-12-05T13:06:53.109000Z"
    }
   },
   "outputs": [
    {
     "data": {
      "text/html": [
       "<div>\n",
       "<style scoped>\n",
       "    .dataframe tbody tr th:only-of-type {\n",
       "        vertical-align: middle;\n",
       "    }\n",
       "\n",
       "    .dataframe tbody tr th {\n",
       "        vertical-align: top;\n",
       "    }\n",
       "\n",
       "    .dataframe thead th {\n",
       "        text-align: right;\n",
       "    }\n",
       "</style>\n",
       "<table border=\"1\" class=\"dataframe\">\n",
       "  <thead>\n",
       "    <tr style=\"text-align: right;\">\n",
       "      <th></th>\n",
       "      <th>Feature_Names</th>\n",
       "      <th>Importances</th>\n",
       "    </tr>\n",
       "  </thead>\n",
       "  <tbody>\n",
       "    <tr>\n",
       "      <th>0</th>\n",
       "      <td>PNEUMONIA</td>\n",
       "      <td>0.583816</td>\n",
       "    </tr>\n",
       "    <tr>\n",
       "      <th>1</th>\n",
       "      <td>PATIENT_TYPE</td>\n",
       "      <td>0.129989</td>\n",
       "    </tr>\n",
       "    <tr>\n",
       "      <th>2</th>\n",
       "      <td>OBESITY</td>\n",
       "      <td>0.037612</td>\n",
       "    </tr>\n",
       "    <tr>\n",
       "      <th>3</th>\n",
       "      <td>AGE</td>\n",
       "      <td>0.037008</td>\n",
       "    </tr>\n",
       "    <tr>\n",
       "      <th>4</th>\n",
       "      <td>TOBACCO</td>\n",
       "      <td>0.024308</td>\n",
       "    </tr>\n",
       "    <tr>\n",
       "      <th>5</th>\n",
       "      <td>SEX</td>\n",
       "      <td>0.023564</td>\n",
       "    </tr>\n",
       "    <tr>\n",
       "      <th>6</th>\n",
       "      <td>MEDICAL_UNIT</td>\n",
       "      <td>0.022823</td>\n",
       "    </tr>\n",
       "    <tr>\n",
       "      <th>7</th>\n",
       "      <td>RENAL_CHRONIC</td>\n",
       "      <td>0.020644</td>\n",
       "    </tr>\n",
       "    <tr>\n",
       "      <th>8</th>\n",
       "      <td>COPD</td>\n",
       "      <td>0.020492</td>\n",
       "    </tr>\n",
       "    <tr>\n",
       "      <th>9</th>\n",
       "      <td>INMSUPR</td>\n",
       "      <td>0.019068</td>\n",
       "    </tr>\n",
       "    <tr>\n",
       "      <th>10</th>\n",
       "      <td>DIABETES</td>\n",
       "      <td>0.016560</td>\n",
       "    </tr>\n",
       "    <tr>\n",
       "      <th>11</th>\n",
       "      <td>OTHER_DISEASE</td>\n",
       "      <td>0.015473</td>\n",
       "    </tr>\n",
       "    <tr>\n",
       "      <th>12</th>\n",
       "      <td>USMER</td>\n",
       "      <td>0.014854</td>\n",
       "    </tr>\n",
       "    <tr>\n",
       "      <th>13</th>\n",
       "      <td>CARDIOVASCULAR</td>\n",
       "      <td>0.009478</td>\n",
       "    </tr>\n",
       "    <tr>\n",
       "      <th>14</th>\n",
       "      <td>HIPERTENSION</td>\n",
       "      <td>0.009197</td>\n",
       "    </tr>\n",
       "    <tr>\n",
       "      <th>15</th>\n",
       "      <td>ASTHMA</td>\n",
       "      <td>0.008458</td>\n",
       "    </tr>\n",
       "    <tr>\n",
       "      <th>16</th>\n",
       "      <td>PREGNANT</td>\n",
       "      <td>0.006656</td>\n",
       "    </tr>\n",
       "  </tbody>\n",
       "</table>\n",
       "</div>"
      ],
      "text/plain": [
       "     Feature_Names  Importances\n",
       "0        PNEUMONIA     0.583816\n",
       "1     PATIENT_TYPE     0.129989\n",
       "2          OBESITY     0.037612\n",
       "3              AGE     0.037008\n",
       "4          TOBACCO     0.024308\n",
       "5              SEX     0.023564\n",
       "6     MEDICAL_UNIT     0.022823\n",
       "7    RENAL_CHRONIC     0.020644\n",
       "8             COPD     0.020492\n",
       "9          INMSUPR     0.019068\n",
       "10        DIABETES     0.016560\n",
       "11   OTHER_DISEASE     0.015473\n",
       "12           USMER     0.014854\n",
       "13  CARDIOVASCULAR     0.009478\n",
       "14    HIPERTENSION     0.009197\n",
       "15          ASTHMA     0.008458\n",
       "16        PREGNANT     0.006656"
      ]
     },
     "execution_count": 45,
     "metadata": {},
     "output_type": "execute_result"
    }
   ],
   "source": [
    "df_importances"
   ]
  },
  {
   "cell_type": "code",
   "execution_count": 46,
   "metadata": {
    "execution": {
     "iopub.execute_input": "2022-12-05T13:06:53.121543Z",
     "iopub.status.busy": "2022-12-05T13:06:53.121328Z",
     "iopub.status.idle": "2022-12-05T13:06:53.414134Z",
     "shell.execute_reply": "2022-12-05T13:06:53.413365Z",
     "shell.execute_reply.started": "2022-12-05T13:06:53.121516Z"
    }
   },
   "outputs": [
    {
     "data": {
      "image/png": "[encoded data removed]",
      "text/plain": [
       "<Figure size 1500x800 with 1 Axes>"
      ]
     },
     "metadata": {},
     "output_type": "display_data"
    }
   ],
   "source": [
    "plt.figure(figsize = (15,8))\n",
    "ax = sns.barplot(x = \"Feature_Names\", y = \"Importances\", data = df_importances.sort_values(\n",
    "    by = \"Importances\", ascending=False)[0:10])\n",
    "plt.title(\"Feature Importances\", fontsize = 25)\n",
    "for bars in ax.containers:\n",
    "    ax.bar_label(bars)"
   ]
  },
  {
   "cell_type": "markdown",
   "metadata": {},
   "source": [
    "**Hmm, PNEUMONIA affects COVID19 the most.**"
   ]
  }
 ],
 "metadata": {
  "kernelspec": {
   "display_name": "Python 3 (ipykernel)",
   "language": "python",
   "name": "python3"
  },
  "language_info": {
   "codemirror_mode": {
    "name": "ipython",
    "version": 3
   },
   "file_extension": ".py",
   "mimetype": "text/x-python",
   "name": "python",
   "nbconvert_exporter": "python",
   "pygments_lexer": "ipython3",
   "version": "3.9.12"
  }
 },
 "nbformat": 4,
 "nbformat_minor": 4
}
